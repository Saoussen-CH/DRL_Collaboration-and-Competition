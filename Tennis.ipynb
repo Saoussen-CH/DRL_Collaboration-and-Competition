{
 "cells": [
  {
   "cell_type": "markdown",
   "metadata": {},
   "source": [
    "# Collaboration and Competition\n",
    "\n",
    "---\n",
    "\n",
    "You are welcome to use this coding environment to train your agent for the project.  Follow the instructions below to get started!\n",
    "\n",
    "### 1. Start the Environment\n",
    "\n",
    "Run the next code cell to install a few packages.  This line will take a few minutes to run!"
   ]
  },
  {
   "cell_type": "code",
   "execution_count": 1,
   "metadata": {},
   "outputs": [
    {
     "name": "stdout",
     "output_type": "stream",
     "text": [
      "\u001b[31mtensorflow 1.7.1 has requirement numpy>=1.13.3, but you'll have numpy 1.12.1 which is incompatible.\u001b[0m\r\n",
      "\u001b[31mipython 6.5.0 has requirement prompt-toolkit<2.0.0,>=1.0.15, but you'll have prompt-toolkit 2.0.10 which is incompatible.\u001b[0m\r\n"
     ]
    }
   ],
   "source": [
    "!pip -q install ./python"
   ]
  },
  {
   "cell_type": "markdown",
   "metadata": {},
   "source": [
    "The environment is already saved in the Workspace and can be accessed at the file path provided below. "
   ]
  },
  {
   "cell_type": "code",
   "execution_count": 2,
   "metadata": {},
   "outputs": [
    {
     "name": "stderr",
     "output_type": "stream",
     "text": [
      "INFO:unityagents:\n",
      "'Academy' started successfully!\n",
      "Unity Academy name: Academy\n",
      "        Number of Brains: 1\n",
      "        Number of External Brains : 1\n",
      "        Lesson number : 0\n",
      "        Reset Parameters :\n",
      "\t\t\n",
      "Unity brain name: TennisBrain\n",
      "        Number of Visual Observations (per agent): 0\n",
      "        Vector Observation space type: continuous\n",
      "        Vector Observation space size (per agent): 8\n",
      "        Number of stacked Vector Observation: 3\n",
      "        Vector Action space type: continuous\n",
      "        Vector Action space size (per agent): 2\n",
      "        Vector Action descriptions: , \n"
     ]
    }
   ],
   "source": [
    "from unityagents import UnityEnvironment\n",
    "import numpy as np\n",
    "\n",
    "env = UnityEnvironment(file_name=\"/data/Tennis_Linux_NoVis/Tennis\")"
   ]
  },
  {
   "cell_type": "code",
   "execution_count": 3,
   "metadata": {},
   "outputs": [],
   "source": [
    "import random\n",
    "import time\n",
    "import matplotlib.pyplot as plt\n",
    "import torch\n",
    "%matplotlib inline\n",
    "\n",
    "from collections import deque\n",
    "from workspace_utils import active_session\n",
    "from ddpg_agent import Agent"
   ]
  },
  {
   "cell_type": "markdown",
   "metadata": {},
   "source": [
    "Environments contain **_brains_** which are responsible for deciding the actions of their associated agents. Here we check for the first brain available, and set it as the default brain we will be controlling from Python."
   ]
  },
  {
   "cell_type": "code",
   "execution_count": 4,
   "metadata": {},
   "outputs": [],
   "source": [
    "# get the default brain\n",
    "brain_name = env.brain_names[0]\n",
    "brain = env.brains[brain_name]"
   ]
  },
  {
   "cell_type": "markdown",
   "metadata": {},
   "source": [
    "### 2. Examine the State and Action Spaces\n",
    "\n",
    "Run the code cell below to print some information about the environment."
   ]
  },
  {
   "cell_type": "code",
   "execution_count": 5,
   "metadata": {},
   "outputs": [
    {
     "name": "stdout",
     "output_type": "stream",
     "text": [
      "Number of agents: 2\n",
      "Size of each action: 2\n",
      "There are 2 agents. Each observes a state with length: 24\n",
      "The state for the first agent looks like: [ 0.          0.          0.          0.          0.          0.          0.\n",
      "  0.          0.          0.          0.          0.          0.          0.\n",
      "  0.          0.         -6.65278625 -1.5        -0.          0.\n",
      "  6.83172083  6.         -0.          0.        ]\n"
     ]
    }
   ],
   "source": [
    "# reset the environment\n",
    "env_info = env.reset(train_mode=True)[brain_name]\n",
    "\n",
    "# number of agents \n",
    "num_agents = len(env_info.agents)\n",
    "print('Number of agents:', num_agents)\n",
    "\n",
    "# size of each action\n",
    "action_size = brain.vector_action_space_size\n",
    "print('Size of each action:', action_size)\n",
    "\n",
    "# examine the state space \n",
    "states = env_info.vector_observations\n",
    "state_size = states.shape[1]\n",
    "print('There are {} agents. Each observes a state with length: {}'.format(states.shape[0], state_size))\n",
    "print('The state for the first agent looks like:', states[0])"
   ]
  },
  {
   "cell_type": "markdown",
   "metadata": {},
   "source": [
    "### 3. Take Random Actions in the Environment\n",
    "\n",
    "In the next code cell, you will learn how to use the Python API to control the agent and receive feedback from the environment.\n",
    "\n",
    "Note that **in this coding environment, you will not be able to watch the agents while they are training**, and you should set `train_mode=True` to restart the environment."
   ]
  },
  {
   "cell_type": "code",
   "execution_count": 6,
   "metadata": {},
   "outputs": [
    {
     "name": "stdout",
     "output_type": "stream",
     "text": [
      "Total score (averaged over agents) this episode: -0.004999999888241291\n",
      "Total score (averaged over agents) this episode: 0.04500000085681677\n",
      "Total score (averaged over agents) this episode: -0.004999999888241291\n",
      "Total score (averaged over agents) this episode: -0.004999999888241291\n",
      "Total score (averaged over agents) this episode: -0.004999999888241291\n"
     ]
    }
   ],
   "source": [
    "for i in range(5):                                         # play game for 5 episodes\n",
    "    env_info = env.reset(train_mode=False)[brain_name]     # reset the environment    \n",
    "    states = env_info.vector_observations                  # get the current state (for each agent)\n",
    "    scores = np.zeros(num_agents)                          # initialize the score (for each agent)\n",
    "    while True:\n",
    "        actions = np.random.randn(num_agents, action_size) # select an action (for each agent)\n",
    "        actions = np.clip(actions, -1, 1)                  # all actions between -1 and 1\n",
    "        env_info = env.step(actions)[brain_name]           # send all actions to tne environment\n",
    "        next_states = env_info.vector_observations         # get next state (for each agent)\n",
    "        rewards = env_info.rewards                         # get reward (for each agent)\n",
    "        dones = env_info.local_done                        # see if episode finished\n",
    "        scores += env_info.rewards                         # update the score (for each agent)\n",
    "        states = next_states                               # roll over states to next time step\n",
    "        if np.any(dones):                                  # exit loop if episode finished\n",
    "            break\n",
    "    print('Total score (averaged over agents) this episode: {}'.format(np.mean(scores)))"
   ]
  },
  {
   "cell_type": "code",
   "execution_count": 9,
   "metadata": {},
   "outputs": [],
   "source": [
    "def get_actions(states, add_noise):\n",
    "    action_0 = A0.act(states, add_noise)\n",
    "    action_1 = A1.act(states, add_noise)\n",
    "    return np.concatenate((action_0, action_1), axis=0).flatten()"
   ]
  },
  {
   "cell_type": "code",
   "execution_count": 10,
   "metadata": {},
   "outputs": [],
   "source": [
    "def maddpg(n_episodes=2000, max_t=1000):\n",
    "    \"\"\"Multi-Agent Deep Deterministic Policy Gradient (MADDPG)\n",
    "    \n",
    "    Params\n",
    "    ======\n",
    "        n_episodes (int)      : maximum number of training episodes\n",
    "        max_t (int)           : maximum number of timesteps per episode\n",
    "\n",
    "    \"\"\"\n",
    "    scores_window = deque(maxlen = 100)\n",
    "    scores_all = []\n",
    "    moving_average = []\n",
    "    best_score = -np.inf\n",
    "    c_states = state_size * 2 # combine states\n",
    "\n",
    "    for i_episode in range(1, n_episodes+1):\n",
    "        env_info = env.reset(train_mode=True)[brain_name]\n",
    "        states = np.reshape(env_info.vector_observations, (1,c_states))\n",
    "        \n",
    "        A0.reset()\n",
    "        A1.reset()\n",
    "        \n",
    "        scores = np.zeros(num_agents)\n",
    "        while True:\n",
    "            actions = get_actions(states, True)\n",
    "            env_info = env.step(actions)[brain_name]\n",
    "            next_states = np.reshape(env_info.vector_observations, (1,c_states))\n",
    "            rewards = env_info.rewards\n",
    "            done = env_info.local_done\n",
    "            A0.step(states, actions, rewards[0], next_states, done, 0)\n",
    "            A1.step(states, actions, rewards[1], next_states, done, 1)\n",
    "            scores += np.max(rewards)\n",
    "            states = next_states\n",
    "            if np.any(done):\n",
    "                break\n",
    "\n",
    "        ep_best = np.max(scores)\n",
    "        scores_window.append(ep_best)\n",
    "        scores_all.append(ep_best)\n",
    "        moving_average.append(np.mean(scores_window))\n",
    "        \n",
    "        if i_episode % 10 == 0:\n",
    "            print('\\tEpisode {:0>4d}\\tMoving Average: {:.3f}'.format(i_episode, moving_average[-1]))\n",
    "\n",
    "        if moving_average[-1] >= 0.5: \n",
    "            print('\\n\\tEnvironment solved in {:d} episodes! \\\\n\\tMoving Average: {:.3f} (over past {:d} episodes)\\n'.format(i_episode-100, moving_average[-1], 100))\n",
    "            torch.save(A0.actor_local.state_dict(),  'actor0_checkpoint.pth')\n",
    "            torch.save(A0.critic_local.state_dict(), 'critic0_checkpoint.pth')\n",
    "            torch.save(A1.actor_local.state_dict(), 'actor1_checkpoint.pth')\n",
    "            torch.save(A1.critic_local.state_dict(), 'critic1_checkpoint.pth')\n",
    "            break\n",
    "                                        \n",
    "    return scores_all, moving_average"
   ]
  },
  {
   "cell_type": "code",
   "execution_count": 11,
   "metadata": {},
   "outputs": [],
   "source": [
    "A0 = Agent(state_size, action_size, num_agents=1, random_seed=0)\n",
    "A1 = Agent(state_size, action_size, num_agents=1, random_seed=0)"
   ]
  },
  {
   "cell_type": "code",
   "execution_count": 12,
   "metadata": {},
   "outputs": [
    {
     "name": "stdout",
     "output_type": "stream",
     "text": [
      "\tEpisode 0010\tMoving Average: 0.000\n",
      "\tEpisode 0020\tMoving Average: 0.015\n",
      "\tEpisode 0030\tMoving Average: 0.010\n",
      "\tEpisode 0040\tMoving Average: 0.008\n",
      "\tEpisode 0050\tMoving Average: 0.008\n",
      "\tEpisode 0060\tMoving Average: 0.007\n",
      "\tEpisode 0070\tMoving Average: 0.007\n",
      "\tEpisode 0080\tMoving Average: 0.009\n",
      "\tEpisode 0090\tMoving Average: 0.010\n",
      "\tEpisode 0100\tMoving Average: 0.012\n",
      "\tEpisode 0110\tMoving Average: 0.012\n",
      "\tEpisode 0120\tMoving Average: 0.010\n",
      "\tEpisode 0130\tMoving Average: 0.011\n",
      "\tEpisode 0140\tMoving Average: 0.013\n",
      "\tEpisode 0150\tMoving Average: 0.015\n",
      "\tEpisode 0160\tMoving Average: 0.018\n",
      "\tEpisode 0170\tMoving Average: 0.017\n",
      "\tEpisode 0180\tMoving Average: 0.015\n",
      "\tEpisode 0190\tMoving Average: 0.015\n",
      "\tEpisode 0200\tMoving Average: 0.013\n",
      "\tEpisode 0210\tMoving Average: 0.015\n",
      "\tEpisode 0220\tMoving Average: 0.016\n",
      "\tEpisode 0230\tMoving Average: 0.015\n",
      "\tEpisode 0240\tMoving Average: 0.013\n",
      "\tEpisode 0250\tMoving Average: 0.010\n",
      "\tEpisode 0260\tMoving Average: 0.010\n",
      "\tEpisode 0270\tMoving Average: 0.014\n",
      "\tEpisode 0280\tMoving Average: 0.018\n",
      "\tEpisode 0290\tMoving Average: 0.019\n",
      "\tEpisode 0300\tMoving Average: 0.021\n",
      "\tEpisode 0310\tMoving Average: 0.021\n",
      "\tEpisode 0320\tMoving Average: 0.020\n",
      "\tEpisode 0330\tMoving Average: 0.023\n",
      "\tEpisode 0340\tMoving Average: 0.029\n",
      "\tEpisode 0350\tMoving Average: 0.036\n",
      "\tEpisode 0360\tMoving Average: 0.036\n",
      "\tEpisode 0370\tMoving Average: 0.034\n",
      "\tEpisode 0380\tMoving Average: 0.038\n",
      "\tEpisode 0390\tMoving Average: 0.040\n",
      "\tEpisode 0400\tMoving Average: 0.039\n",
      "\tEpisode 0410\tMoving Average: 0.044\n",
      "\tEpisode 0420\tMoving Average: 0.050\n",
      "\tEpisode 0430\tMoving Average: 0.053\n",
      "\tEpisode 0440\tMoving Average: 0.048\n",
      "\tEpisode 0450\tMoving Average: 0.045\n",
      "\tEpisode 0460\tMoving Average: 0.048\n",
      "\tEpisode 0470\tMoving Average: 0.054\n",
      "\tEpisode 0480\tMoving Average: 0.054\n",
      "\tEpisode 0490\tMoving Average: 0.059\n",
      "\tEpisode 0500\tMoving Average: 0.067\n",
      "\tEpisode 0510\tMoving Average: 0.063\n",
      "\tEpisode 0520\tMoving Average: 0.059\n",
      "\tEpisode 0530\tMoving Average: 0.058\n",
      "\tEpisode 0540\tMoving Average: 0.064\n",
      "\tEpisode 0550\tMoving Average: 0.066\n",
      "\tEpisode 0560\tMoving Average: 0.069\n",
      "\tEpisode 0570\tMoving Average: 0.070\n",
      "\tEpisode 0580\tMoving Average: 0.073\n",
      "\tEpisode 0590\tMoving Average: 0.075\n",
      "\tEpisode 0600\tMoving Average: 0.078\n",
      "\tEpisode 0610\tMoving Average: 0.085\n",
      "\tEpisode 0620\tMoving Average: 0.099\n",
      "\tEpisode 0630\tMoving Average: 0.111\n",
      "\tEpisode 0640\tMoving Average: 0.119\n",
      "\tEpisode 0650\tMoving Average: 0.127\n",
      "\tEpisode 0660\tMoving Average: 0.132\n",
      "\tEpisode 0670\tMoving Average: 0.137\n",
      "\tEpisode 0680\tMoving Average: 0.153\n",
      "\tEpisode 0690\tMoving Average: 0.155\n",
      "\tEpisode 0700\tMoving Average: 0.167\n",
      "\tEpisode 0710\tMoving Average: 0.189\n",
      "\tEpisode 0720\tMoving Average: 0.198\n",
      "\tEpisode 0730\tMoving Average: 0.204\n",
      "\tEpisode 0740\tMoving Average: 0.202\n",
      "\tEpisode 0750\tMoving Average: 0.207\n",
      "\tEpisode 0760\tMoving Average: 0.214\n",
      "\tEpisode 0770\tMoving Average: 0.217\n",
      "\tEpisode 0780\tMoving Average: 0.212\n",
      "\tEpisode 0790\tMoving Average: 0.220\n",
      "\tEpisode 0800\tMoving Average: 0.215\n",
      "\tEpisode 0810\tMoving Average: 0.256\n",
      "\tEpisode 0820\tMoving Average: 0.323\n",
      "\tEpisode 0830\tMoving Average: 0.391\n",
      "\tEpisode 0840\tMoving Average: 0.481\n",
      "\n",
      "\tEnvironment solved in 745 episodes! \\n\tMoving Average: 0.506 (over past 100 episodes)\n",
      "\n",
      "\n",
      "Elapsed Time: 9.72 mins.\n"
     ]
    },
    {
     "data": {
      "image/png": "[encoded data removed]",
      "text/plain": [
       "<matplotlib.figure.Figure at 0x7f82b58531d0>"
      ]
     },
     "metadata": {
      "needs_background": "light"
     },
     "output_type": "display_data"
    }
   ],
   "source": [
    "with active_session():\n",
    "    start = time.time()\n",
    "    scores, moving_avg = maddpg()\n",
    "    end = time.time()\n",
    "    elapsed = (end - start) / 60.0 # in minutes\n",
    "    print(\"\\nElapsed Time: {0:3.2f} mins.\".format(elapsed))\n",
    "    \n",
    "    fig = plt.figure()\n",
    "    ax = fig.add_subplot(111) \n",
    "    plt.plot(np.arange(len(scores)), scores, label='DDPG')\n",
    "    plt.plot(np.arange(len(moving_avg)), moving_avg, c='r', label='Moving AVG')\n",
    "    plt.ylabel('Score')\n",
    "    plt.xlabel('Episode #')\n",
    "    plt.savefig('results_v1.png', bbox_inches='tight')\n",
    "    plt.legend(loc='upper left')\n",
    "    plt.show()\n"
   ]
  },
  {
   "cell_type": "markdown",
   "metadata": {},
   "source": [
    "When finished, you can close the environment."
   ]
  },
  {
   "cell_type": "code",
   "execution_count": null,
   "metadata": {},
   "outputs": [],
   "source": [
    "env.close()"
   ]
  },
  {
   "cell_type": "markdown",
   "metadata": {},
   "source": [
    "### 4. It's Your Turn!\n",
    "\n",
    "Now it's your turn to train your own agent to solve the environment!  A few **important notes**:\n",
    "- When training the environment, set `train_mode=True`, so that the line for resetting the environment looks like the following:\n",
    "```python\n",
    "env_info = env.reset(train_mode=True)[brain_name]\n",
    "```\n",
    "- To structure your work, you're welcome to work directly in this Jupyter notebook, or you might like to start over with a new file!  You can see the list of files in the workspace by clicking on **_Jupyter_** in the top left corner of the notebook.\n",
    "- In this coding environment, you will not be able to watch the agents while they are training.  However, **_after training the agents_**, you can download the saved model weights to watch the agents on your own machine! "
   ]
  }
 ],
 "metadata": {
  "kernelspec": {
   "display_name": "Python 3",
   "language": "python",
   "name": "python3"
  },
  "language_info": {
   "codemirror_mode": {
    "name": "ipython",
    "version": 3
   },
   "file_extension": ".py",
   "mimetype": "text/x-python",
   "name": "python",
   "nbconvert_exporter": "python",
   "pygments_lexer": "ipython3",
   "version": "3.6.3"
  }
 },
 "nbformat": 4,
 "nbformat_minor": 2
}
